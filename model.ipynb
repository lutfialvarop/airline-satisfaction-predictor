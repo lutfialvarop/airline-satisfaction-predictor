{
 "cells": [
  {
   "cell_type": "markdown",
   "id": "c2488f9c",
   "metadata": {},
   "source": [
    "# 1. Import Library"
   ]
  },
  {
   "cell_type": "code",
   "execution_count": null,
   "id": "0dbf3dc1",
   "metadata": {},
   "outputs": [
    {
     "name": "stderr",
     "output_type": "stream",
     "text": [
      "/Users/piik/Documents/Kuliah/MLops/airline-satisfaction-predictor/venv/lib/python3.9/site-packages/urllib3/__init__.py:35: NotOpenSSLWarning: urllib3 v2 only supports OpenSSL 1.1.1+, currently the 'ssl' module is compiled with 'LibreSSL 2.8.3'. See: https://github.com/urllib3/urllib3/issues/3020\n",
      "  warnings.warn(\n"
     ]
    }
   ],
   "source": [
    "import pandas as pd\n",
    "import seaborn as sns\n",
    "import matplotlib.pyplot as plt\n",
    "\n",
    "import mlflow\n",
    "import mlflow.sklearn\n",
    "\n",
    "from sklearn.preprocessing import LabelEncoder, OneHotEncoder, StandardScaler\n",
    "from sklearn.ensemble import RandomForestClassifier\n",
    "from sklearn.model_selection import train_test_split, GridSearchCV\n",
    "from sklearn.metrics import confusion_matrix, classification_report, roc_curve, auc, accuracy_score, precision_score, recall_score, f1_score\n",
    "# knnimputer\n",
    "from sklearn.impute import KNNImputer\n",
    "\n",
    "import joblib\n",
    "\n",
    "import subprocess\n",
    "import time"
   ]
  },
  {
   "cell_type": "markdown",
   "id": "9d9ba6bd",
   "metadata": {},
   "source": [
    "# 2. Configure MLflow"
   ]
  },
  {
   "cell_type": "code",
   "execution_count": 9,
   "id": "4fa28d7c",
   "metadata": {},
   "outputs": [
    {
     "name": "stdout",
     "output_type": "stream",
     "text": [
      "--- Proses Dimulai ---\n",
      "Starting MLFlow server...\n"
     ]
    },
    {
     "data": {
      "text/plain": [
       "<Experiment: artifact_location='mlflow-artifacts:/989256094349529342', creation_time=1759855909385, experiment_id='989256094349529342', last_update_time=1759855909385, lifecycle_stage='active', name='Airline Passenger Satisfaction', tags={}>"
      ]
     },
     "execution_count": 9,
     "metadata": {},
     "output_type": "execute_result"
    }
   ],
   "source": [
    "print(\"--- Proses Dimulai ---\")\n",
    "def start_mlflow_server():\n",
    "    process = subprocess.Popen(\n",
    "        [\"mlflow\", \"server\", \"--host\", \"127.0.0.1\", \"--port\", \"8085\", \"--serve-artifacts\"],\n",
    "        stdout=subprocess.PIPE,\n",
    "        stderr=subprocess.PIPE,\n",
    "        text=True\n",
    "    )\n",
    "\n",
    "    time.sleep(5)\n",
    "    return process\n",
    "\n",
    "print(\"Starting MLFlow server...\")\n",
    "mlflow_process = start_mlflow_server()\n",
    "\n",
    "mlflow.set_tracking_uri(\"http://127.0.0.1:8085\") \n",
    "mlflow.set_experiment(\"Airline Passenger Satisfaction\")"
   ]
  },
  {
   "cell_type": "markdown",
   "id": "9b9d6ead",
   "metadata": {},
   "source": [
    "# 3. EDA"
   ]
  },
  {
   "cell_type": "code",
   "execution_count": null,
   "id": "9b9043b2",
   "metadata": {},
   "outputs": [
    {
     "name": "stdout",
     "output_type": "stream",
     "text": [
      "\n",
      "[Tahap 1] Memuat data dan logging info awal...\n",
      "🏃 View run EDA at: http://127.0.0.1:8085/#/experiments/989256094349529342/runs/2c76ec7a737c49308550d34e107272a2\n",
      "🧪 View experiment at: http://127.0.0.1:8085/#/experiments/989256094349529342\n"
     ]
    }
   ],
   "source": [
    "def preprocess_data(df):\n",
    "    \"\"\"Fungsi untuk membersihkan dan melakukan Pre-processing data.\"\"\"\n",
    "    if 'Unnamed: 0' in df.columns:\n",
    "        df = df.drop(columns=['Unnamed: 0'])\n",
    "    if 'id' in df.columns:\n",
    "        df = df.drop(columns=['id'])\n",
    "    if 'Arrival Delay in Minutes' in df.columns:\n",
    "        mean_delay = df['Arrival Delay in Minutes'].mean()\n",
    "        df['Arrival Delay in Minutes'].fillna(mean_delay, inplace=True)\n",
    "    categorical_cols = df.select_dtypes(include=['object']).columns\n",
    "    df = pd.get_dummies(df, columns=categorical_cols, drop_first=True)\n",
    "    return df\n",
    "\n",
    "with mlflow.start_run(run_name=\"EDA\"):\n",
    "    mlflow.set_tag(\"developer\", \"Lutfi Alvaro Pratama\")\n",
    "\n",
    "    # --- 1. Memuat Data & EDA Awal ---\n",
    "    print(\"\\n[Tahap 1] Memuat data dan logging info awal...\")\n",
    "    try:\n",
    "        df_train = pd.read_csv('./data/train.csv')\n",
    "        df_test = pd.read_csv('./data/test.csv')\n",
    "    except IndexError:\n",
    "        print(\"Error: Pastikan file 'train.csv' dan 'test.csv' ada di dalam folder './data/'.\")\n",
    "        exit()\n",
    "    mlflow.log_param(\"train_data_path\", df_train)\n",
    "    mlflow.log_param(\"test_data_path\", df_test)\n",
    "    mlflow.log_metric(\"initial_train_rows\", df_train.shape[0])\n",
    "    mlflow.log_metric(\"initial_train_cols\", df_train.shape[1])\n",
    "    initial_nulls = df_train['Arrival Delay in Minutes'].isnull().sum()\n",
    "    mlflow.log_metric(\"initial_arrival_delay_nulls\", initial_nulls)\n",
    "\n",
    "    plt.figure(figsize=(12, 10))\n",
    "    sns.heatmap(df_train.corr(), annot=True, fmt=\".2f\", cmap='coolwarm')\n",
    "    plt.title('Correlation Matrix')\n",
    "    plt.tight_layout()\n",
    "    plt.savefig('correlation_matrix.png')\n",
    "    mlflow.log_artifact('correlation_matrix.png')\n",
    "    plt.close()"
   ]
  },
  {
   "cell_type": "markdown",
   "id": "a7ad956b",
   "metadata": {},
   "source": [
    "# 4. Pre-processing"
   ]
  },
  {
   "cell_type": "code",
   "execution_count": null,
   "id": "f2f4e168",
   "metadata": {},
   "outputs": [
    {
     "name": "stdout",
     "output_type": "stream",
     "text": [
      "\n",
      "[Tahap 2] Pre-processing data...\n"
     ]
    },
    {
     "name": "stderr",
     "output_type": "stream",
     "text": [
      "/var/folders/5x/xwkh3j196xj3vm2h289y4hrc0000gn/T/ipykernel_96783/2240324675.py:9: FutureWarning: A value is trying to be set on a copy of a DataFrame or Series through chained assignment using an inplace method.\n",
      "The behavior will change in pandas 3.0. This inplace method will never work because the intermediate object on which we are setting values always behaves as a copy.\n",
      "\n",
      "For example, when doing 'df[col].method(value, inplace=True)', try using 'df.method({col: value}, inplace=True)' or df[col] = df[col].method(value) instead, to perform the operation inplace on the original object.\n",
      "\n",
      "\n",
      "  df['Arrival Delay in Minutes'].fillna(mean_delay, inplace=True)\n",
      "/var/folders/5x/xwkh3j196xj3vm2h289y4hrc0000gn/T/ipykernel_96783/2240324675.py:9: FutureWarning: A value is trying to be set on a copy of a DataFrame or Series through chained assignment using an inplace method.\n",
      "The behavior will change in pandas 3.0. This inplace method will never work because the intermediate object on which we are setting values always behaves as a copy.\n",
      "\n",
      "For example, when doing 'df[col].method(value, inplace=True)', try using 'df.method({col: value}, inplace=True)' or df[col] = df[col].method(value) instead, to perform the operation inplace on the original object.\n",
      "\n",
      "\n",
      "  df['Arrival Delay in Minutes'].fillna(mean_delay, inplace=True)\n"
     ]
    },
    {
     "name": "stdout",
     "output_type": "stream",
     "text": [
      "🏃 View run Pre-processing at: http://127.0.0.1:8085/#/experiments/989256094349529342/runs/a1f8addb85fb40948b0aaf7c9b29758a\n",
      "🧪 View experiment at: http://127.0.0.1:8085/#/experiments/989256094349529342\n"
     ]
    }
   ],
   "source": [
    "with mlflow.start_run(run_name=\"Data Preparation with KNNImputer\"):\n",
    "    print(\"\\n[Tahap 2] Memulai persiapan data...\")\n",
    "    mlflow.log_param(\"imputation_strategy\", \"KNNImputer (k=5)\")\n",
    "    \n",
    "    # --- A. Pembersihan Awal dan Pemisahan Fitur & Target ---\n",
    "    for df in [df_train, df_test]:\n",
    "        for col in ['Unnamed: 0', 'id']:\n",
    "            if col in df.columns:\n",
    "                df.drop(columns=[col], inplace=True)\n",
    "\n",
    "    y_train_full_labels = df_train['satisfaction']\n",
    "    X_train_full_raw = df_train.drop(columns=['satisfaction'])\n",
    "    \n",
    "    y_test_labels = df_test['satisfaction']\n",
    "    X_test_raw = df_test.drop(columns=['satisfaction'])\n",
    "\n",
    "    # --- B. Identifikasi Tipe Kolom ---\n",
    "    numeric_cols = X_train_full_raw.select_dtypes(include=['number']).columns.tolist()\n",
    "    categorical_cols = X_train_full_raw.select_dtypes(include=['object']).columns.tolist()\n",
    "    \n",
    "    # --- C. Proses Fitur Numerik (Scaling & Imputation) ---\n",
    "    scaler = StandardScaler()\n",
    "    imputer = KNNImputer(n_neighbors=5)\n",
    "\n",
    "    # Fit scaler & imputer HANYA pada data training untuk mencegah data leakage\n",
    "    print(\"Fitting scaler dan imputer pada data training...\")\n",
    "    X_train_numeric_scaled = scaler.fit_transform(X_train_full_raw[numeric_cols])\n",
    "    X_train_numeric_imputed = imputer.fit_transform(X_train_numeric_scaled)\n",
    "    \n",
    "    # Transform data test menggunakan scaler & imputer yang sudah di-fit\n",
    "    print(\"Transforming data test...\")\n",
    "    X_test_numeric_scaled = scaler.transform(X_test_raw[numeric_cols])\n",
    "    X_test_numeric_imputed = imputer.transform(X_test_numeric_scaled)\n",
    "    \n",
    "    # Kembalikan ke DataFrame dengan nama kolom dan index yang benar\n",
    "    X_train_numeric_processed = pd.DataFrame(X_train_numeric_imputed, columns=numeric_cols, index=X_train_full_raw.index)\n",
    "    X_test_numeric_processed = pd.DataFrame(X_test_numeric_imputed, columns=numeric_cols, index=X_test_raw.index)\n",
    "\n",
    "    # --- D. Proses Fitur Kategorikal (One-Hot Encoding) ---\n",
    "    print(\"Melakukan one-hot encoding pada fitur kategorikal...\")\n",
    "    X_train_categorical_processed = pd.get_dummies(X_train_full_raw[categorical_cols], drop_first=True)\n",
    "    X_test_categorical_processed = pd.get_dummies(X_test_raw[categorical_cols], drop_first=True)\n",
    "\n",
    "    # --- E. Gabungkan & Sejajarkan Kolom ---\n",
    "    X_train_full_processed = pd.concat([X_train_numeric_processed, X_train_categorical_processed], axis=1)\n",
    "    X_test_processed = pd.concat([X_test_numeric_processed, X_test_categorical_processed], axis=1)\n",
    "    \n",
    "    # Sejajarkan kolom test dengan train untuk memastikan konsistensi\n",
    "    train_cols = X_train_full_processed.columns\n",
    "    X_test_processed = X_test_processed.reindex(columns=train_cols, fill_value=0)\n",
    "    \n",
    "    # --- F. Encoding Target & Split Data untuk Validasi ---\n",
    "    label_encoder = LabelEncoder()\n",
    "    y_train_full = label_encoder.fit_transform(y_train_full_labels)\n",
    "    y_test = label_encoder.transform(y_test_labels)\n",
    "    joblib.dump(label_encoder, 'label_encoder.joblib')\n",
    "    mlflow.log_artifact('label_encoder.joblib')"
   ]
  },
  {
   "cell_type": "markdown",
   "id": "097c8395",
   "metadata": {},
   "source": [
    "# 5. Data Split"
   ]
  },
  {
   "cell_type": "code",
   "execution_count": null,
   "id": "dc64c302",
   "metadata": {},
   "outputs": [
    {
     "name": "stdout",
     "output_type": "stream",
     "text": [
      "\n",
      "[Tahap 3] Membagi data training untuk validasi...\n",
      "🏃 View run Data Split at: http://127.0.0.1:8085/#/experiments/989256094349529342/runs/abde8b13f07e44bcaa9101a22fc4a8a8\n",
      "🧪 View experiment at: http://127.0.0.1:8085/#/experiments/989256094349529342\n"
     ]
    }
   ],
   "source": [
    "with mlflow.start_run(run_name=\"Data Split\"):\n",
    "    print(\"\\n[Tahap 3] Membagi data training untuk validasi...\")\n",
    "    \n",
    "    test_split_ratio = 0.2\n",
    "    random_state_split = 42\n",
    "    \n",
    "    mlflow.log_param(\"validation_size\", test_split_ratio)\n",
    "    mlflow.log_param(\"stratify_random_state\", random_state_split)\n",
    "    \n",
    "    X_train, X_val, y_train, y_val = train_test_split(\n",
    "        X_train_full_processed, y_train_full, test_size=test_split_ratio, random_state=random_state_split, stratify=y_train_full\n",
    "    )"
   ]
  },
  {
   "cell_type": "markdown",
   "id": "c7c3e477",
   "metadata": {},
   "source": [
    "# 6. Modeling, Hyperparameter Tuning, & Evaluation"
   ]
  },
  {
   "cell_type": "code",
   "execution_count": null,
   "id": "dc3bf559",
   "metadata": {},
   "outputs": [
    {
     "name": "stdout",
     "output_type": "stream",
     "text": [
      "\n",
      "[Tahap 4] Memulai Hyperparameter Tuning...\n",
      "Fitting 3 folds for each of 32 candidates, totalling 96 fits\n",
      "\n",
      "[Tahap 5] Mengevaluasi model terbaik...\n",
      "\n",
      "===== Mengevaluasi Training =====\n",
      "                         precision    recall  f1-score   support\n",
      "\n",
      "neutral or dissatisfied       0.97      0.99      0.98     47103\n",
      "              satisfied       0.99      0.95      0.97     36020\n",
      "\n",
      "               accuracy                           0.97     83123\n",
      "              macro avg       0.98      0.97      0.97     83123\n",
      "           weighted avg       0.97      0.97      0.97     83123\n",
      "\n",
      "\n",
      "===== Mengevaluasi Validation =====\n",
      "                         precision    recall  f1-score   support\n",
      "\n",
      "neutral or dissatisfied       0.96      0.97      0.96     11776\n",
      "              satisfied       0.96      0.94      0.95      9005\n",
      "\n",
      "               accuracy                           0.96     20781\n",
      "              macro avg       0.96      0.96      0.96     20781\n",
      "           weighted avg       0.96      0.96      0.96     20781\n",
      "\n",
      "\n",
      "===== Mengevaluasi Test =====\n",
      "                         precision    recall  f1-score   support\n",
      "\n",
      "neutral or dissatisfied       0.95      0.97      0.96     14573\n",
      "              satisfied       0.97      0.94      0.95     11403\n",
      "\n",
      "               accuracy                           0.96     25976\n",
      "              macro avg       0.96      0.96      0.96     25976\n",
      "           weighted avg       0.96      0.96      0.96     25976\n",
      "\n"
     ]
    },
    {
     "name": "stderr",
     "output_type": "stream",
     "text": [
      "2025/10/11 08:32:22 WARNING mlflow.models.model: `artifact_path` is deprecated. Please use `name` instead.\n"
     ]
    },
    {
     "name": "stdout",
     "output_type": "stream",
     "text": [
      "\n",
      "[Tahap 6] Menyimpan model ke MLflow Server...\n"
     ]
    },
    {
     "name": "stderr",
     "output_type": "stream",
     "text": [
      "\u001b[31m2025/10/11 08:32:27 WARNING mlflow.models.model: Model logged without a signature and input example. Please set `input_example` parameter when logging the model to auto infer the model signature.\u001b[0m\n"
     ]
    },
    {
     "name": "stdout",
     "output_type": "stream",
     "text": [
      "🏃 View run Modeling & Hyperparameter Tuning at: http://127.0.0.1:8085/#/experiments/989256094349529342/runs/ff8dd2d67d664dc993847728955e4385\n",
      "🧪 View experiment at: http://127.0.0.1:8085/#/experiments/989256094349529342\n",
      "\n",
      "--- MLflow Run Selesai ---\n"
     ]
    }
   ],
   "source": [
    "# --- 4. Modeling & Hyperparameter Tuning ---\n",
    "with mlflow.start_run(run_name=\"Modeling & Hyperparameter Tuning\"):\n",
    "    print(\"\\n[Tahap 3] Memulai Hyperparameter Tuning...\")\n",
    "    param_grid = {\n",
    "        'n_estimators': [200, 300],\n",
    "        'max_depth': [8, 10, 12, 15],\n",
    "        'min_samples_split': [20, 40],\n",
    "        'min_samples_leaf': [10, 20],\n",
    "        'max_features': ['sqrt', 'log2']\n",
    "    }\n",
    "    mlflow.log_param(\"param_grid\", str(param_grid))\n",
    "    \n",
    "    rf = RandomForestClassifier(random_state=42, n_jobs=-1, class_weight='balanced') # Tambah class_weight\n",
    "    grid_search = GridSearchCV(estimator=rf, param_grid=param_grid, cv=5, verbose=2, scoring='accuracy')\n",
    "    grid_search.fit(X_train, y_train)\n",
    "    best_model = grid_search.best_estimator_\n",
    "    mlflow.log_params(grid_search.best_params_)\n",
    "    \n",
    "    # --- 4. Evaluasi Model ---\n",
    "    # (Fungsi evaluate_model_and_log tidak perlu diubah, jadi saya copy-paste langsung)\n",
    "    def evaluate_model_and_log(model, X_data, y_true, data_name, label_encoder):\n",
    "        \"\"\"Fungsi untuk evaluasi dan logging metrik serta artefak ke MLflow.\"\"\"\n",
    "        y_pred = model.predict(X_data)\n",
    "        y_pred_proba = model.predict_proba(X_data)[:, 1]\n",
    "        class_names = label_encoder.classes_\n",
    "        \n",
    "        print(f\"\\n===== Mengevaluasi {data_name} =====\")\n",
    "        print(classification_report(y_true, y_pred, target_names=class_names))\n",
    "\n",
    "        mlflow.log_metric(f\"{data_name}_accuracy\", accuracy_score(y_true, y_pred))\n",
    "        mlflow.log_metric(f\"{data_name}_precision\", precision_score(y_true, y_pred))\n",
    "        mlflow.log_metric(f\"{data_name}_recall\", recall_score(y_true, y_pred))\n",
    "        mlflow.log_metric(f\"{data_name}_f1_score\", f1_score(y_true, y_pred))\n",
    "        \n",
    "        cm = confusion_matrix(y_true, y_pred)\n",
    "        plt.figure(figsize=(8, 6))\n",
    "        sns.heatmap(cm, annot=True, fmt='d', cmap='Greens', xticklabels=class_names, yticklabels=class_names)\n",
    "        plt.title(f'Confusion Matrix - {data_name}')\n",
    "        plt.xlabel('Predicted Label')\n",
    "        plt.ylabel('True Label')\n",
    "        cm_path = f\"confusion_matrix_{data_name}.png\"\n",
    "        plt.savefig(cm_path)\n",
    "        plt.close()\n",
    "        mlflow.log_artifact(cm_path, \"evaluation_plots\")\n",
    "    \n",
    "        fpr, tpr, _ = roc_curve(y_true, y_pred_proba)\n",
    "        roc_auc = auc(fpr, tpr)\n",
    "        mlflow.log_metric(f\"{data_name}_auc\", roc_auc)\n",
    "        plt.figure(figsize=(8, 6))\n",
    "        plt.plot(fpr, tpr, color='blue', lw=2, label=f'ROC curve (AUC = {roc_auc:.3f})')\n",
    "        plt.plot([0, 1], [0, 1], color='red', lw=2, linestyle='--')\n",
    "        plt.title(f'Receiver Operating Characteristic (ROC) - {data_name}')\n",
    "        plt.xlabel('False Positive Rate')\n",
    "        plt.ylabel('True Positive Rate')\n",
    "        plt.legend(loc=\"lower right\")\n",
    "        plt.grid(alpha=0.3)\n",
    "        roc_path = f\"roc_curve_{data_name}.png\"\n",
    "        plt.savefig(roc_path)\n",
    "        plt.close()\n",
    "        mlflow.log_artifact(roc_path, \"evaluation_plots\")\n",
    "\n",
    "    print(\"\\n[Tahap 4] Mengevaluasi model terbaik...\")\n",
    "    evaluate_model_and_log(best_model, X_train, y_train, \"Training\", label_encoder)\n",
    "    evaluate_model_and_log(best_model, X_val, y_val, \"Validation\", label_encoder)\n",
    "    evaluate_model_and_log(best_model, X_test_processed, y_test, \"Test\", label_encoder)\n",
    "\n",
    "    # --- 5. Menyimpan Model ke MLflow ---\n",
    "    print(\"\\n[Tahap 5] Menyimpan model ke MLflow Server...\")\n",
    "    mlflow.sklearn.log_model(best_model, \"random_forest_model\")\n",
    "\n",
    "print(\"\\n--- MLflow Run Selesai ---\")"
   ]
  },
  {
   "cell_type": "markdown",
   "id": "63f8aa18",
   "metadata": {},
   "source": [
    "# 7. Export Model"
   ]
  },
  {
   "cell_type": "code",
   "execution_count": 14,
   "id": "a99d008e",
   "metadata": {},
   "outputs": [
    {
     "name": "stdout",
     "output_type": "stream",
     "text": [
      "\n",
      "Model final juga diekspor secara terpisah ke: 'best_airline_satisfaction_model.joblib'\n",
      "\n",
      "--- Proses Selesai ---\n"
     ]
    }
   ],
   "source": [
    "# --- 7. Ekspor Model Final ---\n",
    "model_filename = \"best_airline_satisfaction_model.joblib\"\n",
    "joblib.dump(best_model, model_filename, compress=3)\n",
    "print(f\"\\nModel final juga diekspor secara terpisah ke: '{model_filename}'\")\n",
    "print(\"\\n--- Proses Selesai ---\")"
   ]
  },
  {
   "cell_type": "markdown",
   "id": "ddce8b72",
   "metadata": {},
   "source": [
    "# 8. Stop MLflow Server"
   ]
  },
  {
   "cell_type": "code",
   "execution_count": null,
   "id": "63bf4bfd",
   "metadata": {},
   "outputs": [],
   "source": [
    "print(\"Menghentikan server MLflow...\")\n",
    "mlflow_process.terminate()\n",
    "mlflow_process.wait()"
   ]
  }
 ],
 "metadata": {
  "kernelspec": {
   "display_name": "venv",
   "language": "python",
   "name": "python3"
  },
  "language_info": {
   "codemirror_mode": {
    "name": "ipython",
    "version": 3
   },
   "file_extension": ".py",
   "mimetype": "text/x-python",
   "name": "python",
   "nbconvert_exporter": "python",
   "pygments_lexer": "ipython3",
   "version": "3.9.6"
  }
 },
 "nbformat": 4,
 "nbformat_minor": 5
}
